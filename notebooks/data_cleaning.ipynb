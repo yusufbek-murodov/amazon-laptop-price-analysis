{
 "cells": [
  {
   "cell_type": "code",
   "execution_count": 403,
   "metadata": {},
   "outputs": [],
   "source": [
    "# Importing the pandas library for data manipulation and analysis\n",
    "\n",
    "import pandas as pd "
   ]
  },
  {
   "cell_type": "code",
   "execution_count": 404,
   "metadata": {},
   "outputs": [],
   "source": [
    "# Reading the raw CSV file into a Pandas DataFrame\n",
    "\n",
    "df = pd.read_csv('/home/yusufbek-murodov/Documents/myfiles/Machine learning projects/webscrapping-amazon/data/raw/laptop_data.csv')\n",
    "pd.set_option('display.max_rows', None)"
   ]
  },
  {
   "cell_type": "code",
   "execution_count": 405,
   "metadata": {},
   "outputs": [
    {
     "data": {
      "text/html": [
       "<div>\n",
       "<style scoped>\n",
       "    .dataframe tbody tr th:only-of-type {\n",
       "        vertical-align: middle;\n",
       "    }\n",
       "\n",
       "    .dataframe tbody tr th {\n",
       "        vertical-align: top;\n",
       "    }\n",
       "\n",
       "    .dataframe thead th {\n",
       "        text-align: right;\n",
       "    }\n",
       "</style>\n",
       "<table border=\"1\" class=\"dataframe\">\n",
       "  <thead>\n",
       "    <tr style=\"text-align: right;\">\n",
       "      <th></th>\n",
       "      <th>brand_name</th>\n",
       "      <th>model_name</th>\n",
       "      <th>screen_size</th>\n",
       "      <th>ram</th>\n",
       "      <th>storage</th>\n",
       "      <th>cpu</th>\n",
       "      <th>operating_system</th>\n",
       "      <th>price</th>\n",
       "      <th>rating</th>\n",
       "      <th>reviews</th>\n",
       "      <th>graphics</th>\n",
       "      <th>card_description</th>\n",
       "    </tr>\n",
       "  </thead>\n",
       "  <tbody>\n",
       "    <tr>\n",
       "      <th>0</th>\n",
       "      <td>HP</td>\n",
       "      <td>15s-fq5007TU</td>\n",
       "      <td>39.6 Centimetres</td>\n",
       "      <td>8 GB</td>\n",
       "      <td>512 GB</td>\n",
       "      <td>Core i3</td>\n",
       "      <td>Windows 11 Home</td>\n",
       "      <td>36,990</td>\n",
       "      <td>4.0</td>\n",
       "      <td>941 ratings</td>\n",
       "      <td>Not available</td>\n",
       "      <td>Integrated</td>\n",
       "    </tr>\n",
       "    <tr>\n",
       "      <th>1</th>\n",
       "      <td>Dell</td>\n",
       "      <td>Vostro</td>\n",
       "      <td>15.6 Inches</td>\n",
       "      <td>8 GB</td>\n",
       "      <td>512 GB</td>\n",
       "      <td>Core i3 Family</td>\n",
       "      <td>Windows 11 Home</td>\n",
       "      <td>33,990</td>\n",
       "      <td>3.7</td>\n",
       "      <td>725 ratings</td>\n",
       "      <td>Not available</td>\n",
       "      <td>Integrated</td>\n",
       "    </tr>\n",
       "    <tr>\n",
       "      <th>2</th>\n",
       "      <td>HP</td>\n",
       "      <td>HP Laptop</td>\n",
       "      <td>39.6 Centimetres</td>\n",
       "      <td>16 GB</td>\n",
       "      <td>512 GB</td>\n",
       "      <td>Intel Core i5</td>\n",
       "      <td>Windows 11 Home</td>\n",
       "      <td>52,990</td>\n",
       "      <td>3.7</td>\n",
       "      <td>108 ratings</td>\n",
       "      <td>Not available</td>\n",
       "      <td>Integrated</td>\n",
       "    </tr>\n",
       "    <tr>\n",
       "      <th>3</th>\n",
       "      <td>HP</td>\n",
       "      <td>eq2100 series</td>\n",
       "      <td>39.6 Centimetres</td>\n",
       "      <td>16 GB</td>\n",
       "      <td>512 GB</td>\n",
       "      <td>AMD Ryzen 5 5500U</td>\n",
       "      <td>Windows 11 Home</td>\n",
       "      <td>41,990</td>\n",
       "      <td>4.1</td>\n",
       "      <td>1,676 ratings</td>\n",
       "      <td>Not available</td>\n",
       "      <td>Integrated</td>\n",
       "    </tr>\n",
       "    <tr>\n",
       "      <th>4</th>\n",
       "      <td>Dell</td>\n",
       "      <td>Vostro</td>\n",
       "      <td>15.6 Inches</td>\n",
       "      <td>8 GB</td>\n",
       "      <td>512 GB</td>\n",
       "      <td>Core i5</td>\n",
       "      <td>Windows 11 Home</td>\n",
       "      <td>43,990</td>\n",
       "      <td>3.5</td>\n",
       "      <td>441 ratings</td>\n",
       "      <td>Not available</td>\n",
       "      <td>Integrated</td>\n",
       "    </tr>\n",
       "  </tbody>\n",
       "</table>\n",
       "</div>"
      ],
      "text/plain": [
       "  brand_name     model_name       screen_size    ram storage  \\\n",
       "0         HP   15s-fq5007TU  39.6 Centimetres   8 GB  512 GB   \n",
       "1       Dell         Vostro       15.6 Inches   8 GB  512 GB   \n",
       "2         HP      HP Laptop  39.6 Centimetres  16 GB  512 GB   \n",
       "3         HP  eq2100 series  39.6 Centimetres  16 GB  512 GB   \n",
       "4       Dell         Vostro       15.6 Inches   8 GB  512 GB   \n",
       "\n",
       "                 cpu operating_system   price rating        reviews  \\\n",
       "0            Core i3  Windows 11 Home  36,990    4.0    941 ratings   \n",
       "1     Core i3 Family  Windows 11 Home  33,990    3.7    725 ratings   \n",
       "2      Intel Core i5  Windows 11 Home  52,990    3.7    108 ratings   \n",
       "3  AMD Ryzen 5 5500U  Windows 11 Home  41,990    4.1  1,676 ratings   \n",
       "4            Core i5  Windows 11 Home  43,990    3.5    441 ratings   \n",
       "\n",
       "        graphics card_description  \n",
       "0  Not available       Integrated  \n",
       "1  Not available       Integrated  \n",
       "2  Not available       Integrated  \n",
       "3  Not available       Integrated  \n",
       "4  Not available       Integrated  "
      ]
     },
     "execution_count": 405,
     "metadata": {},
     "output_type": "execute_result"
    }
   ],
   "source": [
    "# Displaying the first 5 rows of the DataFrame to inspect the data\n",
    "\n",
    "df.head()"
   ]
  },
  {
   "cell_type": "code",
   "execution_count": 406,
   "metadata": {},
   "outputs": [
    {
     "data": {
      "text/plain": [
       "(528, 12)"
      ]
     },
     "execution_count": 406,
     "metadata": {},
     "output_type": "execute_result"
    }
   ],
   "source": [
    "# Getting the number of rows and columns in the DataFrame\n",
    "\n",
    "df.shape"
   ]
  },
  {
   "cell_type": "code",
   "execution_count": 407,
   "metadata": {},
   "outputs": [
    {
     "data": {
      "text/plain": [
       "Index(['brand_name', 'model_name', 'screen_size', 'ram', 'storage', 'cpu',\n",
       "       'operating_system', 'price', 'rating', 'reviews', 'graphics',\n",
       "       'card_description'],\n",
       "      dtype='object')"
      ]
     },
     "execution_count": 407,
     "metadata": {},
     "output_type": "execute_result"
    }
   ],
   "source": [
    "# Listing all column names in the DataFrame\n",
    "\n",
    "df.columns"
   ]
  },
  {
   "cell_type": "code",
   "execution_count": 408,
   "metadata": {},
   "outputs": [
    {
     "data": {
      "text/plain": [
       "brand_name          object\n",
       "model_name          object\n",
       "screen_size         object\n",
       "ram                 object\n",
       "storage             object\n",
       "cpu                 object\n",
       "operating_system    object\n",
       "price               object\n",
       "rating              object\n",
       "reviews             object\n",
       "graphics            object\n",
       "card_description    object\n",
       "dtype: object"
      ]
     },
     "execution_count": 408,
     "metadata": {},
     "output_type": "execute_result"
    }
   ],
   "source": [
    "df.dtypes"
   ]
  },
  {
   "cell_type": "markdown",
   "metadata": {},
   "source": [
    "## Data Cleaning Process\n",
    "1. Handle missing values.\n",
    "2. Remove duplicates.\n",
    "3. Fix column names.\n",
    "4. Convert data types.\n",
    "5. Filter out outliers.\n"
   ]
  },
  {
   "cell_type": "markdown",
   "metadata": {},
   "source": [
    "### Filling missing values and correct Rows"
   ]
  },
  {
   "cell_type": "code",
   "execution_count": 409,
   "metadata": {},
   "outputs": [
    {
     "data": {
      "text/plain": [
       "brand_name\n",
       "HP      395\n",
       "Dell    133\n",
       "Name: count, dtype: int64"
      ]
     },
     "execution_count": 409,
     "metadata": {},
     "output_type": "execute_result"
    }
   ],
   "source": [
    "# Brand Name\n",
    "\n",
    "df.value_counts('brand_name')"
   ]
  },
  {
   "cell_type": "code",
   "execution_count": 410,
   "metadata": {},
   "outputs": [
    {
     "data": {
      "text/plain": [
       "model_name\n",
       "HP Laptop                 155\n",
       "Vostro                     44\n",
       "Laptop                     42\n",
       "Inspiron 3520              22\n",
       "14-ew0116TU                21\n",
       "15s-fy5010TU               21\n",
       "15s-fq3066TU               21\n",
       "Latitue 5490               21\n",
       "HP Pavilion                21\n",
       "15-fa1307TX                21\n",
       "15-fa1317X                 21\n",
       "15-fa1319X                 21\n",
       "15-fa1333tx                21\n",
       "Vostro 3430                21\n",
       "5490-cr                    21\n",
       "HP                         21\n",
       "16-e0350ax                  1\n",
       "15s-fq5007TU                1\n",
       "15-fa1227tx                 1\n",
       "15s-fy5011TU                1\n",
       "15s-fq5190TU                1\n",
       "255 G9                      1\n",
       "HP Pavilion Laptop          1\n",
       "Dell Laptop                 1\n",
       "HP Laptop 15s-fr5010TU      1\n",
       "Inspiron 3535               1\n",
       "Inspiron 3530               1\n",
       "Inspiron 3525               1\n",
       "eq2100 series               1\n",
       "Name: count, dtype: int64"
      ]
     },
     "execution_count": 410,
     "metadata": {},
     "output_type": "execute_result"
    }
   ],
   "source": [
    "# Model Name\n",
    "\n",
    "df.value_counts('model_name')"
   ]
  },
  {
   "cell_type": "code",
   "execution_count": 411,
   "metadata": {},
   "outputs": [
    {
     "data": {
      "text/plain": [
       "screen_size\n",
       "39.6 Centimetres    199\n",
       "15.6 Inches         158\n",
       "14 Inches           148\n",
       "40.9                 21\n",
       "35.6 Centimetres      1\n",
       "16 Inches             1\n",
       "Name: count, dtype: int64"
      ]
     },
     "execution_count": 411,
     "metadata": {},
     "output_type": "execute_result"
    }
   ],
   "source": [
    "# Screen Size\n",
    "\n",
    "df.value_counts('screen_size')"
   ]
  },
  {
   "cell_type": "code",
   "execution_count": 412,
   "metadata": {},
   "outputs": [],
   "source": [
    "def fix_screen_size(value):\n",
    "    if 'Centimetres' in value or 'Inches' not in value:\n",
    "        value = float(value.replace('Centimetres', ''))\n",
    "        screen_size_inch = round((value / 2.54), 1)\n",
    "        return screen_size_inch\n",
    "    elif 'Inches' in value:\n",
    "        value = value.replace('Inches', '')\n",
    "        return value"
   ]
  },
  {
   "cell_type": "code",
   "execution_count": 413,
   "metadata": {},
   "outputs": [],
   "source": [
    "df['screen_size'] = df['screen_size'].apply(fix_screen_size)"
   ]
  },
  {
   "cell_type": "code",
   "execution_count": 414,
   "metadata": {},
   "outputs": [],
   "source": [
    "# Changing data type of screen size (object -> float64)\n",
    "\n",
    "df['screen_size'] = pd.to_numeric(df['screen_size'], errors='coerce')"
   ]
  },
  {
   "cell_type": "code",
   "execution_count": 415,
   "metadata": {},
   "outputs": [
    {
     "data": {
      "text/plain": [
       "ram\n",
       "16 GB    284\n",
       "8 GB     243\n",
       "4 GB       1\n",
       "Name: count, dtype: int64"
      ]
     },
     "execution_count": 415,
     "metadata": {},
     "output_type": "execute_result"
    }
   ],
   "source": [
    "# Ram\n",
    "\n",
    "df.value_counts('ram')"
   ]
  },
  {
   "cell_type": "code",
   "execution_count": 416,
   "metadata": {},
   "outputs": [
    {
     "data": {
      "text/plain": [
       "storage\n",
       "512 GB    311\n",
       "1 TB      106\n",
       "Null       47\n",
       "256 GB     22\n",
       "16 GB      21\n",
       "80 TB      21\n",
       "Name: count, dtype: int64"
      ]
     },
     "execution_count": 416,
     "metadata": {},
     "output_type": "execute_result"
    }
   ],
   "source": [
    "# Storage\n",
    "\n",
    "df.value_counts('storage')"
   ]
  },
  {
   "cell_type": "code",
   "execution_count": 417,
   "metadata": {},
   "outputs": [],
   "source": [
    "# Filling Null values in storage column\n",
    "\n",
    "df['storage'] = df['storage'].replace('Null', df['storage'].value_counts().idxmax())"
   ]
  },
  {
   "cell_type": "code",
   "execution_count": 418,
   "metadata": {},
   "outputs": [
    {
     "data": {
      "text/plain": [
       "storage\n",
       "512 GB    358\n",
       "1 TB      106\n",
       "256 GB     22\n",
       "16 GB      21\n",
       "80 TB      21\n",
       "Name: count, dtype: int64"
      ]
     },
     "execution_count": 418,
     "metadata": {},
     "output_type": "execute_result"
    }
   ],
   "source": [
    "df.value_counts('storage')"
   ]
  },
  {
   "cell_type": "code",
   "execution_count": 419,
   "metadata": {},
   "outputs": [
    {
     "data": {
      "text/plain": [
       "cpu\n",
       "Core i5                154\n",
       "Intel Core i5          108\n",
       "Core i3                 46\n",
       "Ryzen 3                 44\n",
       "Intel Core i3           43\n",
       "Core i5 Family          42\n",
       "Core i7                 22\n",
       "Ryzen 7                 22\n",
       "Celeron N               21\n",
       "Intel Core i7           21\n",
       "Athlon Silver 3050U      1\n",
       "Core i3 Family           1\n",
       "AMD Ryzen 5 5500U        1\n",
       "AMD Ryzen 5 5600X        1\n",
       "Ryzen 5                  1\n",
       "Name: count, dtype: int64"
      ]
     },
     "execution_count": 419,
     "metadata": {},
     "output_type": "execute_result"
    }
   ],
   "source": [
    "# CPU\n",
    "\n",
    "df.value_counts('cpu')"
   ]
  },
  {
   "cell_type": "code",
   "execution_count": 420,
   "metadata": {},
   "outputs": [
    {
     "data": {
      "text/plain": [
       "operating_system\n",
       "Windows 11 Home    485\n",
       "Windows 10 Pro      42\n",
       "Windows 11 Pro       1\n",
       "Name: count, dtype: int64"
      ]
     },
     "execution_count": 420,
     "metadata": {},
     "output_type": "execute_result"
    }
   ],
   "source": [
    "# Operating System\n",
    "\n",
    "df.value_counts('operating_system')"
   ]
  },
  {
   "cell_type": "code",
   "execution_count": 421,
   "metadata": {},
   "outputs": [
    {
     "data": {
      "text/plain": [
       "price\n",
       "Null        42\n",
       "33,990      22\n",
       "35,990      22\n",
       "1,04,990    21\n",
       "35,490      21\n",
       "47,999      21\n",
       "50,990      21\n",
       "49,750      21\n",
       "36,850      21\n",
       "37,990      21\n",
       "27,990      21\n",
       "1,11,990    21\n",
       "89,990      21\n",
       "66,990      21\n",
       "68,990      21\n",
       "67,990      21\n",
       "62,490      21\n",
       "79,990      21\n",
       "56,990      21\n",
       "52,490      21\n",
       "83,990      21\n",
       "45,990      21\n",
       "31,800      14\n",
       "31,890       6\n",
       "46,990       2\n",
       "60,990       2\n",
       "36,990       2\n",
       "21,830       1\n",
       "34,499       1\n",
       "28,990       1\n",
       "31,490       1\n",
       "31,749       1\n",
       "37,490       1\n",
       "39,490       1\n",
       "41,990       1\n",
       "43,990       1\n",
       "50,999       1\n",
       "48,990       1\n",
       "64,990       1\n",
       "55,990       1\n",
       "52,990       1\n",
       "61,990       1\n",
       "55,780       1\n",
       "72,990       1\n",
       "Name: count, dtype: int64"
      ]
     },
     "execution_count": 421,
     "metadata": {},
     "output_type": "execute_result"
    }
   ],
   "source": [
    "# Price\n",
    "\n",
    "df.value_counts('price')"
   ]
  },
  {
   "cell_type": "code",
   "execution_count": 422,
   "metadata": {},
   "outputs": [],
   "source": [
    "def fix_price(value):\n",
    "    value = value.replace(',', '')\n",
    "    return value"
   ]
  },
  {
   "cell_type": "code",
   "execution_count": 423,
   "metadata": {},
   "outputs": [],
   "source": [
    "df['price'] = df['price'].apply(fix_price)"
   ]
  },
  {
   "cell_type": "code",
   "execution_count": 424,
   "metadata": {},
   "outputs": [],
   "source": [
    "# Changing data type of price (object -> float64)\n",
    "\n",
    "df['price'] = pd.to_numeric(df['price'], errors='coerce')"
   ]
  },
  {
   "cell_type": "code",
   "execution_count": 425,
   "metadata": {},
   "outputs": [
    {
     "data": {
      "text/plain": [
       "price\n",
       "35990.0     22\n",
       "33990.0     22\n",
       "27990.0     21\n",
       "35490.0     21\n",
       "49750.0     21\n",
       "52490.0     21\n",
       "50990.0     21\n",
       "47999.0     21\n",
       "45990.0     21\n",
       "37990.0     21\n",
       "36850.0     21\n",
       "89990.0     21\n",
       "68990.0     21\n",
       "79990.0     21\n",
       "83990.0     21\n",
       "104990.0    21\n",
       "66990.0     21\n",
       "62490.0     21\n",
       "111990.0    21\n",
       "67990.0     21\n",
       "56990.0     21\n",
       "31800.0     14\n",
       "31890.0      6\n",
       "60990.0      2\n",
       "36990.0      2\n",
       "46990.0      2\n",
       "21830.0      1\n",
       "34499.0      1\n",
       "31490.0      1\n",
       "31749.0      1\n",
       "28990.0      1\n",
       "37490.0      1\n",
       "39490.0      1\n",
       "41990.0      1\n",
       "43990.0      1\n",
       "52990.0      1\n",
       "50999.0      1\n",
       "48990.0      1\n",
       "55780.0      1\n",
       "64990.0      1\n",
       "61990.0      1\n",
       "55990.0      1\n",
       "72990.0      1\n",
       "Name: count, dtype: int64"
      ]
     },
     "execution_count": 425,
     "metadata": {},
     "output_type": "execute_result"
    }
   ],
   "source": [
    "df.value_counts('price')"
   ]
  },
  {
   "cell_type": "code",
   "execution_count": 426,
   "metadata": {},
   "outputs": [
    {
     "data": {
      "text/plain": [
       "brand_name           0\n",
       "model_name           0\n",
       "screen_size          0\n",
       "ram                  0\n",
       "storage              0\n",
       "cpu                  0\n",
       "operating_system     0\n",
       "price               42\n",
       "rating               0\n",
       "reviews              0\n",
       "graphics             0\n",
       "card_description     0\n",
       "dtype: int64"
      ]
     },
     "execution_count": 426,
     "metadata": {},
     "output_type": "execute_result"
    }
   ],
   "source": [
    "# Counting the number of null values in each column\n",
    "\n",
    "df.isnull().sum()"
   ]
  },
  {
   "cell_type": "code",
   "execution_count": 427,
   "metadata": {},
   "outputs": [],
   "source": [
    "# Filling missing values\n",
    "\n",
    "df['price'] = df['price'].fillna(df['price'].median())"
   ]
  },
  {
   "cell_type": "code",
   "execution_count": 428,
   "metadata": {},
   "outputs": [
    {
     "data": {
      "text/plain": [
       "price\n",
       "50990.0     63\n",
       "33990.0     22\n",
       "35990.0     22\n",
       "35490.0     21\n",
       "47999.0     21\n",
       "52490.0     21\n",
       "49750.0     21\n",
       "37990.0     21\n",
       "45990.0     21\n",
       "36850.0     21\n",
       "27990.0     21\n",
       "89990.0     21\n",
       "68990.0     21\n",
       "79990.0     21\n",
       "83990.0     21\n",
       "104990.0    21\n",
       "66990.0     21\n",
       "62490.0     21\n",
       "111990.0    21\n",
       "67990.0     21\n",
       "56990.0     21\n",
       "31800.0     14\n",
       "31890.0      6\n",
       "60990.0      2\n",
       "36990.0      2\n",
       "46990.0      2\n",
       "21830.0      1\n",
       "34499.0      1\n",
       "31490.0      1\n",
       "31749.0      1\n",
       "28990.0      1\n",
       "37490.0      1\n",
       "39490.0      1\n",
       "41990.0      1\n",
       "43990.0      1\n",
       "52990.0      1\n",
       "50999.0      1\n",
       "48990.0      1\n",
       "55780.0      1\n",
       "64990.0      1\n",
       "61990.0      1\n",
       "55990.0      1\n",
       "72990.0      1\n",
       "Name: count, dtype: int64"
      ]
     },
     "execution_count": 428,
     "metadata": {},
     "output_type": "execute_result"
    }
   ],
   "source": [
    "df.value_counts('price')"
   ]
  },
  {
   "cell_type": "code",
   "execution_count": 429,
   "metadata": {},
   "outputs": [],
   "source": [
    "# Converting Indian rupee to dollar\n",
    "\n",
    "def convert_rupee(value):\n",
    "    return round(value * 0.012)"
   ]
  },
  {
   "cell_type": "code",
   "execution_count": 430,
   "metadata": {},
   "outputs": [],
   "source": [
    "df['price'] = df['price'].apply(convert_rupee)"
   ]
  },
  {
   "cell_type": "code",
   "execution_count": 431,
   "metadata": {},
   "outputs": [
    {
     "data": {
      "text/plain": [
       "price\n",
       "612     64\n",
       "408     22\n",
       "432     22\n",
       "552     21\n",
       "426     21\n",
       "576     21\n",
       "442     21\n",
       "456     21\n",
       "597     21\n",
       "336     21\n",
       "1344    21\n",
       "1080    21\n",
       "960     21\n",
       "1008    21\n",
       "1260    21\n",
       "804     21\n",
       "750     21\n",
       "630     21\n",
       "816     21\n",
       "828     21\n",
       "684     21\n",
       "382     14\n",
       "383      6\n",
       "564      2\n",
       "732      2\n",
       "444      2\n",
       "414      1\n",
       "348      1\n",
       "378      1\n",
       "381      1\n",
       "262      1\n",
       "474      1\n",
       "450      1\n",
       "528      1\n",
       "636      1\n",
       "588      1\n",
       "504      1\n",
       "669      1\n",
       "780      1\n",
       "744      1\n",
       "672      1\n",
       "876      1\n",
       "Name: count, dtype: int64"
      ]
     },
     "execution_count": 431,
     "metadata": {},
     "output_type": "execute_result"
    }
   ],
   "source": [
    "df.value_counts('price')"
   ]
  },
  {
   "cell_type": "code",
   "execution_count": 432,
   "metadata": {},
   "outputs": [
    {
     "data": {
      "text/plain": [
       "brand_name          0\n",
       "model_name          0\n",
       "screen_size         0\n",
       "ram                 0\n",
       "storage             0\n",
       "cpu                 0\n",
       "operating_system    0\n",
       "price               0\n",
       "rating              0\n",
       "reviews             0\n",
       "graphics            0\n",
       "card_description    0\n",
       "dtype: int64"
      ]
     },
     "execution_count": 432,
     "metadata": {},
     "output_type": "execute_result"
    }
   ],
   "source": [
    "# Result of Null values \n",
    "\n",
    "df.isnull().sum()"
   ]
  },
  {
   "cell_type": "code",
   "execution_count": 433,
   "metadata": {},
   "outputs": [
    {
     "data": {
      "text/plain": [
       "rating\n",
       "4.0     89\n",
       "4.1     68\n",
       "3.9     45\n",
       "3.6     43\n",
       "4.3     42\n",
       "3.1     42\n",
       "3.4     42\n",
       "3.7     25\n",
       "3.5     23\n",
       "5.0     22\n",
       "3.0     22\n",
       "2.9     21\n",
       "Null    21\n",
       "3.8     21\n",
       "1.0      1\n",
       "4.2      1\n",
       "Name: count, dtype: int64"
      ]
     },
     "execution_count": 433,
     "metadata": {},
     "output_type": "execute_result"
    }
   ],
   "source": [
    "# Rating \n",
    "\n",
    "df.value_counts('rating')"
   ]
  },
  {
   "cell_type": "code",
   "execution_count": 434,
   "metadata": {},
   "outputs": [],
   "source": [
    "# Changing data type of rating object -> float64\n",
    "\n",
    "df['rating'] = pd.to_numeric(df['rating'], errors='coerce')"
   ]
  },
  {
   "cell_type": "code",
   "execution_count": 435,
   "metadata": {},
   "outputs": [
    {
     "data": {
      "text/plain": [
       "brand_name           0\n",
       "model_name           0\n",
       "screen_size          0\n",
       "ram                  0\n",
       "storage              0\n",
       "cpu                  0\n",
       "operating_system     0\n",
       "price                0\n",
       "rating              21\n",
       "reviews              0\n",
       "graphics             0\n",
       "card_description     0\n",
       "dtype: int64"
      ]
     },
     "execution_count": 435,
     "metadata": {},
     "output_type": "execute_result"
    }
   ],
   "source": [
    "# Null counts of rating column\n",
    "\n",
    "df.isnull().sum()"
   ]
  },
  {
   "cell_type": "code",
   "execution_count": 436,
   "metadata": {},
   "outputs": [],
   "source": [
    "# Filling missing values of rating\n",
    "\n",
    "df['rating'] = df['rating'].fillna(round((df['rating'].mean()), 1))"
   ]
  },
  {
   "cell_type": "code",
   "execution_count": 437,
   "metadata": {},
   "outputs": [
    {
     "data": {
      "text/plain": [
       "brand_name          0\n",
       "model_name          0\n",
       "screen_size         0\n",
       "ram                 0\n",
       "storage             0\n",
       "cpu                 0\n",
       "operating_system    0\n",
       "price               0\n",
       "rating              0\n",
       "reviews             0\n",
       "graphics            0\n",
       "card_description    0\n",
       "dtype: int64"
      ]
     },
     "execution_count": 437,
     "metadata": {},
     "output_type": "execute_result"
    }
   ],
   "source": [
    "df.isnull().sum()"
   ]
  },
  {
   "cell_type": "code",
   "execution_count": 438,
   "metadata": {},
   "outputs": [
    {
     "data": {
      "text/plain": [
       "reviews\n",
       "31 ratings       63\n",
       "6 ratings        42\n",
       "116 ratings      21\n",
       "13 ratings       21\n",
       "29 ratings       21\n",
       "38 ratings       21\n",
       "18 ratings       21\n",
       "2,009 ratings    21\n",
       "1,170 ratings    21\n",
       "101 ratings      21\n",
       "702 ratings      21\n",
       "Null             21\n",
       "96 ratings       21\n",
       "7 ratings        21\n",
       "494 ratings      21\n",
       "61 ratings       21\n",
       "28 ratings       21\n",
       "2 ratings        21\n",
       "42 ratings       21\n",
       "41 ratings       21\n",
       "54 ratings       21\n",
       "167 ratings       2\n",
       "4 ratings         2\n",
       "1 rating          2\n",
       "1,391 ratings     1\n",
       "1,950 ratings     1\n",
       "108 ratings       1\n",
       "11 ratings        1\n",
       "1,676 ratings     1\n",
       "441 ratings       1\n",
       "192 ratings       1\n",
       "23 ratings        1\n",
       "232 ratings       1\n",
       "246 ratings       1\n",
       "675 ratings       1\n",
       "48 ratings        1\n",
       "49 ratings        1\n",
       "714 ratings       1\n",
       "771 ratings       1\n",
       "725 ratings       1\n",
       "941 ratings       1\n",
       "88 ratings        1\n",
       "Name: count, dtype: int64"
      ]
     },
     "execution_count": 438,
     "metadata": {},
     "output_type": "execute_result"
    }
   ],
   "source": [
    "# Reviews\n",
    "\n",
    "df.value_counts('reviews')"
   ]
  },
  {
   "cell_type": "code",
   "execution_count": 439,
   "metadata": {},
   "outputs": [],
   "source": [
    "def fix_reviews(value):\n",
    "    value = value.replace('ratings', '').replace('rating', '').replace(',', '')\n",
    "    return value"
   ]
  },
  {
   "cell_type": "code",
   "execution_count": 440,
   "metadata": {},
   "outputs": [],
   "source": [
    "df['reviews'] = df['reviews'].apply(fix_reviews)"
   ]
  },
  {
   "cell_type": "code",
   "execution_count": 441,
   "metadata": {},
   "outputs": [
    {
     "data": {
      "text/plain": [
       "reviews\n",
       "31       63\n",
       "6        42\n",
       "13       21\n",
       "116      21\n",
       "29       21\n",
       "38       21\n",
       "18       21\n",
       "2009     21\n",
       "101      21\n",
       "1170     21\n",
       "702      21\n",
       "Null     21\n",
       "96       21\n",
       "7        21\n",
       "494      21\n",
       "61       21\n",
       "28       21\n",
       "2        21\n",
       "42       21\n",
       "41       21\n",
       "54       21\n",
       "4         2\n",
       "167       2\n",
       "1         2\n",
       "11        1\n",
       "108       1\n",
       "1676      1\n",
       "1391      1\n",
       "441       1\n",
       "23        1\n",
       "1950      1\n",
       "246       1\n",
       "232       1\n",
       "192       1\n",
       "675       1\n",
       "48        1\n",
       "49        1\n",
       "714       1\n",
       "771       1\n",
       "725       1\n",
       "941       1\n",
       "88        1\n",
       "Name: count, dtype: int64"
      ]
     },
     "execution_count": 441,
     "metadata": {},
     "output_type": "execute_result"
    }
   ],
   "source": [
    "df.value_counts('reviews')"
   ]
  },
  {
   "cell_type": "code",
   "execution_count": 442,
   "metadata": {},
   "outputs": [],
   "source": [
    "# Changing data type of reviews (object -> int64)\n",
    "\n",
    "df['reviews'] = pd.to_numeric(df['reviews'], errors='coerce')"
   ]
  },
  {
   "cell_type": "code",
   "execution_count": 443,
   "metadata": {},
   "outputs": [
    {
     "data": {
      "text/plain": [
       "brand_name           0\n",
       "model_name           0\n",
       "screen_size          0\n",
       "ram                  0\n",
       "storage              0\n",
       "cpu                  0\n",
       "operating_system     0\n",
       "price                0\n",
       "rating               0\n",
       "reviews             21\n",
       "graphics             0\n",
       "card_description     0\n",
       "dtype: int64"
      ]
     },
     "execution_count": 443,
     "metadata": {},
     "output_type": "execute_result"
    }
   ],
   "source": [
    "# Null counts of reviews\n",
    "\n",
    "df.isnull().sum()"
   ]
  },
  {
   "cell_type": "code",
   "execution_count": 444,
   "metadata": {},
   "outputs": [],
   "source": [
    "df['reviews'] = df['reviews'].fillna(round((df['reviews'].mean()), 0))"
   ]
  },
  {
   "cell_type": "code",
   "execution_count": 445,
   "metadata": {},
   "outputs": [
    {
     "data": {
      "text/plain": [
       "brand_name          0\n",
       "model_name          0\n",
       "screen_size         0\n",
       "ram                 0\n",
       "storage             0\n",
       "cpu                 0\n",
       "operating_system    0\n",
       "price               0\n",
       "rating              0\n",
       "reviews             0\n",
       "graphics            0\n",
       "card_description    0\n",
       "dtype: int64"
      ]
     },
     "execution_count": 445,
     "metadata": {},
     "output_type": "execute_result"
    }
   ],
   "source": [
    "df.isnull().sum()"
   ]
  },
  {
   "cell_type": "code",
   "execution_count": 446,
   "metadata": {},
   "outputs": [
    {
     "data": {
      "text/plain": [
       "graphics\n",
       "Not available         506\n",
       "Intel                  21\n",
       "Intel UHD Graphics      1\n",
       "Name: count, dtype: int64"
      ]
     },
     "execution_count": 446,
     "metadata": {},
     "output_type": "execute_result"
    }
   ],
   "source": [
    "# Graphics\n",
    "\n",
    "df.value_counts('graphics')"
   ]
  },
  {
   "cell_type": "code",
   "execution_count": 447,
   "metadata": {},
   "outputs": [
    {
     "data": {
      "text/plain": [
       "card_description\n",
       "Integrated    399\n",
       "Dedicated     129\n",
       "Name: count, dtype: int64"
      ]
     },
     "execution_count": 447,
     "metadata": {},
     "output_type": "execute_result"
    }
   ],
   "source": [
    "# Card Description\n",
    "\n",
    "df.value_counts('card_description')"
   ]
  },
  {
   "cell_type": "code",
   "execution_count": 448,
   "metadata": {},
   "outputs": [
    {
     "data": {
      "text/html": [
       "<div>\n",
       "<style scoped>\n",
       "    .dataframe tbody tr th:only-of-type {\n",
       "        vertical-align: middle;\n",
       "    }\n",
       "\n",
       "    .dataframe tbody tr th {\n",
       "        vertical-align: top;\n",
       "    }\n",
       "\n",
       "    .dataframe thead th {\n",
       "        text-align: right;\n",
       "    }\n",
       "</style>\n",
       "<table border=\"1\" class=\"dataframe\">\n",
       "  <thead>\n",
       "    <tr style=\"text-align: right;\">\n",
       "      <th></th>\n",
       "      <th>brand_name</th>\n",
       "      <th>model_name</th>\n",
       "      <th>screen_size</th>\n",
       "      <th>ram</th>\n",
       "      <th>storage</th>\n",
       "      <th>cpu</th>\n",
       "      <th>operating_system</th>\n",
       "      <th>price</th>\n",
       "      <th>rating</th>\n",
       "      <th>reviews</th>\n",
       "      <th>graphics</th>\n",
       "      <th>card_description</th>\n",
       "    </tr>\n",
       "  </thead>\n",
       "  <tbody>\n",
       "    <tr>\n",
       "      <th>0</th>\n",
       "      <td>HP</td>\n",
       "      <td>15s-fq5007TU</td>\n",
       "      <td>15.6</td>\n",
       "      <td>8 GB</td>\n",
       "      <td>512 GB</td>\n",
       "      <td>Core i3</td>\n",
       "      <td>Windows 11 Home</td>\n",
       "      <td>444</td>\n",
       "      <td>4.0</td>\n",
       "      <td>941.0</td>\n",
       "      <td>Not available</td>\n",
       "      <td>Integrated</td>\n",
       "    </tr>\n",
       "    <tr>\n",
       "      <th>1</th>\n",
       "      <td>Dell</td>\n",
       "      <td>Vostro</td>\n",
       "      <td>15.6</td>\n",
       "      <td>8 GB</td>\n",
       "      <td>512 GB</td>\n",
       "      <td>Core i3 Family</td>\n",
       "      <td>Windows 11 Home</td>\n",
       "      <td>408</td>\n",
       "      <td>3.7</td>\n",
       "      <td>725.0</td>\n",
       "      <td>Not available</td>\n",
       "      <td>Integrated</td>\n",
       "    </tr>\n",
       "    <tr>\n",
       "      <th>2</th>\n",
       "      <td>HP</td>\n",
       "      <td>HP Laptop</td>\n",
       "      <td>15.6</td>\n",
       "      <td>16 GB</td>\n",
       "      <td>512 GB</td>\n",
       "      <td>Intel Core i5</td>\n",
       "      <td>Windows 11 Home</td>\n",
       "      <td>636</td>\n",
       "      <td>3.7</td>\n",
       "      <td>108.0</td>\n",
       "      <td>Not available</td>\n",
       "      <td>Integrated</td>\n",
       "    </tr>\n",
       "    <tr>\n",
       "      <th>3</th>\n",
       "      <td>HP</td>\n",
       "      <td>eq2100 series</td>\n",
       "      <td>15.6</td>\n",
       "      <td>16 GB</td>\n",
       "      <td>512 GB</td>\n",
       "      <td>AMD Ryzen 5 5500U</td>\n",
       "      <td>Windows 11 Home</td>\n",
       "      <td>504</td>\n",
       "      <td>4.1</td>\n",
       "      <td>1676.0</td>\n",
       "      <td>Not available</td>\n",
       "      <td>Integrated</td>\n",
       "    </tr>\n",
       "    <tr>\n",
       "      <th>4</th>\n",
       "      <td>Dell</td>\n",
       "      <td>Vostro</td>\n",
       "      <td>15.6</td>\n",
       "      <td>8 GB</td>\n",
       "      <td>512 GB</td>\n",
       "      <td>Core i5</td>\n",
       "      <td>Windows 11 Home</td>\n",
       "      <td>528</td>\n",
       "      <td>3.5</td>\n",
       "      <td>441.0</td>\n",
       "      <td>Not available</td>\n",
       "      <td>Integrated</td>\n",
       "    </tr>\n",
       "  </tbody>\n",
       "</table>\n",
       "</div>"
      ],
      "text/plain": [
       "  brand_name     model_name  screen_size    ram storage                cpu  \\\n",
       "0         HP   15s-fq5007TU         15.6   8 GB  512 GB            Core i3   \n",
       "1       Dell         Vostro         15.6   8 GB  512 GB     Core i3 Family   \n",
       "2         HP      HP Laptop         15.6  16 GB  512 GB      Intel Core i5   \n",
       "3         HP  eq2100 series         15.6  16 GB  512 GB  AMD Ryzen 5 5500U   \n",
       "4       Dell         Vostro         15.6   8 GB  512 GB            Core i5   \n",
       "\n",
       "  operating_system  price  rating  reviews       graphics card_description  \n",
       "0  Windows 11 Home    444     4.0    941.0  Not available       Integrated  \n",
       "1  Windows 11 Home    408     3.7    725.0  Not available       Integrated  \n",
       "2  Windows 11 Home    636     3.7    108.0  Not available       Integrated  \n",
       "3  Windows 11 Home    504     4.1   1676.0  Not available       Integrated  \n",
       "4  Windows 11 Home    528     3.5    441.0  Not available       Integrated  "
      ]
     },
     "execution_count": 448,
     "metadata": {},
     "output_type": "execute_result"
    }
   ],
   "source": [
    "df.head()"
   ]
  },
  {
   "cell_type": "code",
   "execution_count": 449,
   "metadata": {},
   "outputs": [
    {
     "data": {
      "text/plain": [
       "brand_name           object\n",
       "model_name           object\n",
       "screen_size         float64\n",
       "ram                  object\n",
       "storage              object\n",
       "cpu                  object\n",
       "operating_system     object\n",
       "price                 int64\n",
       "rating              float64\n",
       "reviews             float64\n",
       "graphics             object\n",
       "card_description     object\n",
       "dtype: object"
      ]
     },
     "execution_count": 449,
     "metadata": {},
     "output_type": "execute_result"
    }
   ],
   "source": [
    "df.dtypes"
   ]
  },
  {
   "cell_type": "code",
   "execution_count": 450,
   "metadata": {},
   "outputs": [
    {
     "data": {
      "text/plain": [
       "brand_name          0\n",
       "model_name          0\n",
       "screen_size         0\n",
       "ram                 0\n",
       "storage             0\n",
       "cpu                 0\n",
       "operating_system    0\n",
       "price               0\n",
       "rating              0\n",
       "reviews             0\n",
       "graphics            0\n",
       "card_description    0\n",
       "dtype: int64"
      ]
     },
     "execution_count": 450,
     "metadata": {},
     "output_type": "execute_result"
    }
   ],
   "source": [
    "df.isnull().sum()"
   ]
  },
  {
   "cell_type": "code",
   "execution_count": 452,
   "metadata": {},
   "outputs": [],
   "source": [
    "# Save the CSV File \n",
    "\n",
    "df.to_csv('cleaned_data.csv', index=False)"
   ]
  }
 ],
 "metadata": {
  "kernelspec": {
   "display_name": "venv",
   "language": "python",
   "name": "python3"
  },
  "language_info": {
   "codemirror_mode": {
    "name": "ipython",
    "version": 3
   },
   "file_extension": ".py",
   "mimetype": "text/x-python",
   "name": "python",
   "nbconvert_exporter": "python",
   "pygments_lexer": "ipython3",
   "version": "3.12.3"
  }
 },
 "nbformat": 4,
 "nbformat_minor": 2
}
